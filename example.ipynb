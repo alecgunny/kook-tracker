{
 "cells": [
  {
   "cell_type": "code",
   "execution_count": 1,
   "metadata": {},
   "outputs": [
    {
     "name": "stdout",
     "output_type": "stream",
     "text": [
      "Drafted teams:\n",
      "--------------\n",
      "alec\n",
      "\tConner Coffin\n",
      "\tFilipe Toledo\n",
      "\tRyan Callinan\n",
      "\tMichel Bourez\n",
      "\tYago Dora\n",
      "\tJulian Wilson\n",
      "\tRicardo Christie\n",
      "\tGriffin Colapinto\n",
      "\tJadson Andre\n",
      "chuck\n",
      "\tItalo Ferreira\n",
      "\tGabriel Medina\n",
      "\tWillian Cardoso\n",
      "\tMikey Wright\n",
      "\tPeterson Crisanto\n",
      "\tMichael Rodrigues\n",
      "\tSoli Bailey\n",
      "\tJoan Duru\n",
      "\tCaio Ibelli\n",
      "mike\n",
      "\tJohn John Florence\n",
      "\tOwen Wright\n",
      "\tSeth Moniz\n",
      "\tKelly Slater\n",
      "\tJeremy Flores\n",
      "\tReef Heazlewood\n",
      "\tEzekiel Lau\n",
      "\tSebastian Zietz\n",
      "\tLeonardo Fioravanti\n",
      "dusty\n",
      "\tJordy Smith\n",
      "\tKolohe Andino\n",
      "\tWade Carmichael\n",
      "\tKanoa Igarashi\n",
      "\tDeivid Silva\n",
      "\tAdrian Buchan\n",
      "\tJack Freestone\n",
      "\tJesse Mendes\n",
      "\tMateus Herdy\n",
      "\n",
      "\n",
      "Results:\n",
      "--------\n",
      "1. dusty with 28600 points\n",
      "2. chuck with 26970 points\n",
      "3. mike with 21990 points\n",
      "4. alec with 20290 points\n"
     ]
    }
   ],
   "source": [
    "from event import Event, Competitor\n",
    "import datetime\n",
    "import time\n",
    "\n",
    "now = time.time()\n",
    "draft_date = datetime.datetime.fromtimestamp(now)\n",
    "qs_pro = Event('quiksilver-pro-gold-coast', 2019, 2908, draft_date)\n",
    "\n",
    "alec = Competitor('alec')\n",
    "chuck = Competitor('chuck')\n",
    "mike = Competitor('mike')\n",
    "dusty = Competitor('dusty')\n",
    "competitors = [alec, chuck, mike, dusty]\n",
    "\n",
    "qs_pro.add_competitors(competitors)\n",
    "\n",
    "mike.update_draft_order(qs_pro, 'Conner Coffin', 1)\n",
    "dusty.update_draft_order(qs_pro, 'Owen Wright', 4)\n",
    "chuck.update_draft_order(qs_pro, 'Kanoa Igarashi', 15)\n",
    "\n",
    "qs_pro.update_draft_order(mike, 0)\n",
    "qs_pro.update_draft_order(dusty, 3)\n",
    "qs_pro.draft()\n",
    "\n",
    "print(\"Drafted teams:\")\n",
    "print(\"--------------\")\n",
    "for competitor in competitors:\n",
    "    print(competitor.name)\n",
    "    for surfer in competitor.events[qs_pro]['team']:\n",
    "        print(\"\\t{}\".format(surfer))\n",
    "\n",
    "print(\"\\n\\nResults:\")\n",
    "print(\"--------\")\n",
    "for n, (competitor, score) in enumerate(qs_pro.ranked_competitors.items()):\n",
    "    print(\"{}. {} with {} points\".format(n+1, competitor.name, score))"
   ]
  },
  {
   "cell_type": "code",
   "execution_count": 10,
   "metadata": {},
   "outputs": [
    {
     "name": "stdout",
     "output_type": "stream",
     "text": [
      "['Julian Wilson', 'Leonardo Fioravanti', 'Mateus Herdy', 'Jordy Smith', 'Ricardo Christie', 'Caio Ibelli', 'Owen Wright', 'Peterson Crisanto', 'Kelly Slater', 'Willian Cardoso', 'Sebastian Zietz', 'Jadson Andre']\n",
      "['Julian Wilson', 'Sebastian Zietz']\n",
      "['Jordy Smith', 'Kelly Slater']\n",
      "['Owen Wright', 'Caio Ibelli']\n",
      "['Willian Cardoso', 'Leonardo Fioravanti']\n"
     ]
    }
   ],
   "source": [
    "from event import get_athlete_rankings\n",
    "print(qs_pro.rounds[1].athlete_names)\n",
    "ordered = []\n",
    "for name in get_athlete_rankings(2018):\n",
    "    if name in qs_pro.rounds[1].athlete_names:\n",
    "        ordered.append(name)\n",
    "\n",
    "for i in range(4):\n",
    "    print(ordered[i::4])"
   ]
  },
  {
   "cell_type": "code",
   "execution_count": null,
   "metadata": {},
   "outputs": [],
   "source": []
  }
 ],
 "metadata": {
  "kernelspec": {
   "display_name": "Python 3",
   "language": "python",
   "name": "python3"
  },
  "language_info": {
   "codemirror_mode": {
    "name": "ipython",
    "version": 3
   },
   "file_extension": ".py",
   "mimetype": "text/x-python",
   "name": "python",
   "nbconvert_exporter": "python",
   "pygments_lexer": "ipython3",
   "version": "3.7.3"
  }
 },
 "nbformat": 4,
 "nbformat_minor": 2
}
